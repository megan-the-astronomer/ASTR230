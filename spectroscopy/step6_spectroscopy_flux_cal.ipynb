{
 "cells": [
  {
   "cell_type": "markdown",
   "id": "fc4a7284-051a-4a55-a959-0d14378a5169",
   "metadata": {},
   "source": [
    "Spectroscopic data reduction in six simple steps. The steps performed in this notebook are shown in **bold.**\n",
    "\n",
    "Step 1: Trim and subtract bias from all the data.\n",
    "\n",
    "Step 2: Flatfield the data.\n",
    "\n",
    "Step 3: Construct a comparison lamp image from separate He and Ne lamps.\n",
    "\n",
    "Step 4: Fit a wavelength solution to the lamp composite. \n",
    "\n",
    "Step 5: Extract the 1-D spectrum and its wavelength solution.\n",
    "\n",
    "**Step 6: Apply a relative flux calibration.**\n",
    "\n",
    "$\\rightarrow$ now you are ready to do a bit of analysis.\n",
    "\n",
    "Piece of cake. "
   ]
  },
  {
   "cell_type": "code",
   "execution_count": 1,
   "id": "88b24f63-acb6-44b4-8fe1-0509807453f8",
   "metadata": {},
   "outputs": [],
   "source": [
    "# start by importing the essentials \n",
    "import numpy as np \n",
    "from matplotlib import pyplot as plt \n",
    "\n",
    "from astropy import units as u\n",
    "from astropy import constants\n",
    "from astropy.io import fits\n",
    "from astropy.modeling.polynomial import Polynomial1D\n",
    "from astropy.modeling.models import Gaussian1D, Linear1D\n",
    "from astropy.modeling.fitting import LinearLSQFitter\n",
    "from astropy.modeling.polynomial import Polynomial1D\n",
    "from astropy.io import ascii\n",
    "from astropy.table import Table\n",
    "\n",
    "from scipy.interpolate import UnivariateSpline"
   ]
  },
  {
   "cell_type": "markdown",
   "id": "176b2ec5-c55e-4b0c-a8ce-493ec1f59712",
   "metadata": {},
   "source": [
    "### (0) read in the data "
   ]
  },
  {
   "cell_type": "code",
   "execution_count": 2,
   "id": "623b911a-2f0b-41c8-9944-63f554bcd515",
   "metadata": {},
   "outputs": [],
   "source": [
    "path = '/Users/mr82/teaching/ASTR230_spring2024/lab2/lab2_data/sandbox/'\n",
    "\n",
    "# reduced, wavelength calibrated 1D spectrum \n",
    "spec = np.load(path+'regulus_spec.npy')\n",
    "wave = np.load(path+'regulus_wave.npy')\n",
    "\n",
    "regulus_hdr = fits.open('/Users/mr82/teaching/ASTR230_spring2024/lab2/lab2_data/regulus.fits')[0].header"
   ]
  },
  {
   "cell_type": "markdown",
   "id": "4e30fb29-b0f1-4b8a-9f53-ffc462fb26c9",
   "metadata": {},
   "source": [
    "# (6) flux calibration"
   ]
  },
  {
   "cell_type": "markdown",
   "id": "d0409a01-ea3b-4e85-8987-c60640091140",
   "metadata": {},
   "source": [
    "Flux calibration in spectroscopy is much like flux calibration for images: observe a star of known flux, then use this to determine the scale factor to convert from counts to flux. The key difference is that we do this as a function of wavelength. Instead of comparing one number at one wavelength, we'll derive a correction that is a function of the wavelength. \n",
    "\n",
    "In this notebook, the flux standard is Regulus. "
   ]
  },
  {
   "cell_type": "code",
   "execution_count": 3,
   "id": "3ca9c625-4c71-419b-b161-879f8eff04e5",
   "metadata": {},
   "outputs": [
    {
     "data": {
      "text/plain": [
       "Text(0, 0.5, 'counts')"
      ]
     },
     "execution_count": 3,
     "metadata": {},
     "output_type": "execute_result"
    },
    {
     "data": {
      "image/png": "[encoded data removed]",
      "text/plain": [
       "<Figure size 432x288 with 1 Axes>"
      ]
     },
     "metadata": {
      "needs_background": "light"
     },
     "output_type": "display_data"
    }
   ],
   "source": [
    "plt.plot(wave, spec)\n",
    "plt.xlabel('$\\lambda$ [$\\AA$]')\n",
    "plt.ylabel('counts')"
   ]
  },
  {
   "cell_type": "markdown",
   "id": "d9584896-85d7-4923-891a-3f2e6e22986f",
   "metadata": {},
   "source": [
    "Start by gathering the data for the standard star. These data are available within some software packages (like IRAF) and as standalone tables. We want the file 'hr3982' (another name for Regulus - you can check this by looking the object up on Simbad). \n",
    "\n",
    "This table has three columns: the wavelength (in Angstrom), the magnitude (AB magnitude), and the width of the bandpass. "
   ]
  },
  {
   "cell_type": "code",
   "execution_count": 4,
   "id": "ef1a7783-56cb-4309-90ab-62078720eaee",
   "metadata": {},
   "outputs": [],
   "source": [
    "# the 3 columns in the file are: wavelength (Angstrom), magnitude, bandpass\n",
    "std_dat = Table.read('/Users/mr82/teaching/ASTR230_spring2024/lab2/lab2_data/hr3982.dat', format='ascii', \n",
    "                    names=['wave','mag','bp'])"
   ]
  },
  {
   "cell_type": "code",
   "execution_count": 5,
   "id": "ba493b90-56f0-4453-85c5-bc4f118ad86f",
   "metadata": {},
   "outputs": [
    {
     "name": "stdout",
     "output_type": "stream",
     "text": [
      " wave   mag   bp \n",
      "------ ----- ----\n",
      "3200.0 1.856 49.0\n",
      "3250.0 1.856 49.0\n",
      "3300.0 1.856 49.0\n",
      "3350.0 1.856 49.0\n",
      "3400.0 1.855 49.0\n",
      "3450.0 1.859 49.0\n",
      "3500.0 1.854 49.0\n",
      "   ...   ...  ...\n",
      "6436.0  1.56 98.0\n",
      "6790.0  1.62 98.0\n",
      "7100.0 1.679 98.0\n",
      "7550.0  1.78 98.0\n",
      "7780.0 1.816 98.0\n",
      "8090.0 1.861 98.0\n",
      "8370.0 1.902 98.0\n",
      "Length = 29 rows\n"
     ]
    }
   ],
   "source": [
    "std_dat.pprint()"
   ]
  },
  {
   "cell_type": "code",
   "execution_count": null,
   "id": "b9e354c9-ea83-480f-b4ce-f0f8bfb0dc89",
   "metadata": {},
   "outputs": [],
   "source": []
  },
  {
   "cell_type": "markdown",
   "id": "61c0da6a-5584-4884-b301-9a29a20d1213",
   "metadata": {},
   "source": [
    "First, convert the observed magnitudes to fluxes. "
   ]
  },
  {
   "cell_type": "markdown",
   "id": "f9ff2743-b7a9-48d9-87e5-0436b67b3c20",
   "metadata": {},
   "source": [
    "The magnitudes given for the standard star are AB magnitudes (see, e.g., https://lweb.cfa.harvard.edu/~dfabricant/huchra/ay145/mags.html for more information on magnitude systems). AB mags are defined as \n",
    "\n",
    "$m_{\\mathrm{AB}} = -2.5 \\log_{10}(f_{\\nu}) - 48.60$\n",
    "\n",
    "where the fluxes are in units erg/s/cm$^2$/Hz. Notice that the flux is per unit frequency, not per unit wavelength! For monochromatic flux, $m_{\\mathrm{AB}} = V$. "
   ]
  },
  {
   "cell_type": "code",
   "execution_count": 6,
   "id": "af2fe9be-0bc7-476e-be62-e37833d2ef2e",
   "metadata": {},
   "outputs": [],
   "source": [
    "# use astropy units to keep track of the units \n",
    "zero_pt = 48.60 # AB mag system\n",
    "fnd_flx = 10.**((std_dat['mag'] + zero_pt) / (-2.5)) * u.erg * u.cm**-2 * u.s**-1 * u.Hz**-1"
   ]
  },
  {
   "cell_type": "markdown",
   "id": "0f1dd709-e0a2-49e1-9c37-83550cd68300",
   "metadata": {},
   "source": [
    "Recall, the instrumental magnitude is \n",
    "\n",
    "$m_{\\mathrm{instr}} = -2.5 \\log_{10}(N_{\\mathrm{counts}}/t_{\\mathrm{exp}})$\n",
    "\n",
    "Same idea as flux calibrating images: \n",
    "\n",
    "$m_{\\mathrm{calib}} = m_{\\mathrm{instr}} + m_{\\mathrm{zp}}$ \n",
    "\n",
    "where we derive the zeropoint by comparing with a star of known flux \n",
    "\n",
    "$m_{\\mathrm{std}} - m_{\\mathrm{std,i}} = m_{\\mathrm{zp}}$ "
   ]
  },
  {
   "cell_type": "markdown",
   "id": "5df72bfc-f9fc-45a9-9f1c-3ec59daefce4",
   "metadata": {},
   "source": [
    "As in IRAF, https://iraf.readthedocs.io/en/latest/tasks/noao/imred/irs/sensfunc.html, we will compute the calibration factor at each point as\n",
    "\n",
    "C = 2.5 log (O / (T B F))\n",
    "\n",
    "where O is the observed counts in the bandpass, T is the exposure time, B is the bandpass width, F is the flux **per Angstrom** at the bandpass for the standard star. The ratio C is the observed count rate per Angstrom over the expected flux expressed in magnitudes. \n",
    "\n"
   ]
  },
  {
   "cell_type": "markdown",
   "id": "106d10dc-8fdb-4258-aff0-17daa3a5b264",
   "metadata": {},
   "source": [
    "First, we computed the fluxes of the standard star in erg/s/cm^2/**Hz** but we want to measured fluxes in erg/s/cm^2/**Angstrom**. So we need to do a little unit conversion. "
   ]
  },
  {
   "cell_type": "code",
   "execution_count": 7,
   "id": "001f6be1-6f42-40b9-b9da-cd517250ac94",
   "metadata": {},
   "outputs": [],
   "source": [
    "# freq = c / lambda \n",
    "freq = (constants.c / (std_dat['wave'] * u.Angstrom)).to(u.Hz)"
   ]
  },
  {
   "cell_type": "code",
   "execution_count": 8,
   "id": "027f50a5-82f8-4fb6-ae00-901d3967c302",
   "metadata": {},
   "outputs": [],
   "source": [
    "std_flx = fnd_flx * freq / (std_dat['wave'] * u.Angstrom)"
   ]
  },
  {
   "cell_type": "code",
   "execution_count": 9,
   "id": "920fc331-4c60-4a42-8ecc-7db7108e66c1",
   "metadata": {},
   "outputs": [
    {
     "data": {
      "text/latex": [
       "$[1.9236265 \\times 10^{-9},~1.8648933 \\times 10^{-9},~1.8088095 \\times 10^{-9},~1.7552181 \\times 10^{-9},~1.7055438 \\times 10^{-9},~1.6503745 \\times 10^{-9},~1.6109595 \\times 10^{-9},~1.5461122 \\times 10^{-9},~1.5023563 \\times 10^{-9},~1.5173255 \\times 10^{-9},~2.7239314 \\times 10^{-9},~2.7071878 \\times 10^{-9},~2.4568221 \\times 10^{-9},~2.3047381 \\times 10^{-9},~2.0219589 \\times 10^{-9},~1.8610108 \\times 10^{-9},~1.6078918 \\times 10^{-9},~1.3870135 \\times 10^{-9},~1.1736915 \\times 10^{-9},~9.9470942 \\times 10^{-10},~8.4799835 \\times 10^{-10},~7.5101562 \\times 10^{-10},~6.245808 \\times 10^{-10},~5.3098366 \\times 10^{-10},~4.5994299 \\times 10^{-10},~3.7061825 \\times 10^{-10},~3.3764592 \\times 10^{-10},~2.9958748 \\times 10^{-10},~2.6950684 \\times 10^{-10}] \\; \\mathrm{\\frac{erg}{\\mathring{A}\\,s\\,cm^{2}}}$"
      ],
      "text/plain": [
       "<Quantity [1.92362648e-09, 1.86489327e-09, 1.80880947e-09, 1.75521810e-09,\n",
       "           1.70554377e-09, 1.65037453e-09, 1.61095947e-09, 1.54611218e-09,\n",
       "           1.50235634e-09, 1.51732547e-09, 2.72393139e-09, 2.70718782e-09,\n",
       "           2.45682205e-09, 2.30473806e-09, 2.02195894e-09, 1.86101078e-09,\n",
       "           1.60789179e-09, 1.38701352e-09, 1.17369151e-09, 9.94709415e-10,\n",
       "           8.47998353e-10, 7.51015620e-10, 6.24580804e-10, 5.30983657e-10,\n",
       "           4.59942991e-10, 3.70618249e-10, 3.37645922e-10, 2.99587480e-10,\n",
       "           2.69506837e-10] erg / (Angstrom cm2 s)>"
      ]
     },
     "execution_count": 9,
     "metadata": {},
     "output_type": "execute_result"
    }
   ],
   "source": [
    "std_flx"
   ]
  },
  {
   "cell_type": "code",
   "execution_count": 10,
   "id": "17a5760a-d998-44df-9146-f2e353a5341d",
   "metadata": {},
   "outputs": [
    {
     "data": {
      "text/latex": [
       "$\\mathrm{\\frac{erg}{\\mathring{A}\\,s\\,cm^{2}}}$"
      ],
      "text/plain": [
       "Unit(\"erg / (Angstrom cm2 s)\")"
      ]
     },
     "execution_count": 10,
     "metadata": {},
     "output_type": "execute_result"
    }
   ],
   "source": [
    "std_flx.unit"
   ]
  },
  {
   "cell_type": "code",
   "execution_count": null,
   "id": "d36dcc4c-5ab5-4dff-914e-0df4a7421231",
   "metadata": {},
   "outputs": [],
   "source": []
  },
  {
   "cell_type": "markdown",
   "id": "5fecde37-a266-4b45-bf96-2800772d51c6",
   "metadata": {},
   "source": [
    "Now, compute the average counts in the observed spectrum in the same bandpasses. Why the average? \n",
    "\n",
    "First, we need to select the points that correspond to the spectral range we observed. "
   ]
  },
  {
   "cell_type": "code",
   "execution_count": 11,
   "id": "641142cf-ea93-43bb-9128-48a252332da4",
   "metadata": {},
   "outputs": [],
   "source": [
    "in_spec = np.where(((std_dat['wave']-std_dat['bp']) > wave.min()) & ((std_dat['wave']+std_dat['bp']) < wave.max()))"
   ]
  },
  {
   "cell_type": "code",
   "execution_count": 14,
   "id": "5db64e04-d7a1-44f3-879d-06a243d70a32",
   "metadata": {},
   "outputs": [
    {
     "data": {
      "text/plain": [
       "<matplotlib.lines.Line2D at 0x7fc35022e550>"
      ]
     },
     "execution_count": 14,
     "metadata": {},
     "output_type": "execute_result"
    },
    {
     "data": {
      "image/png": "[encoded data removed]",
      "text/plain": [
       "<Figure size 432x288 with 1 Axes>"
      ]
     },
     "metadata": {
      "needs_background": "light"
     },
     "output_type": "display_data"
    }
   ],
   "source": [
    "plt.plot(std_dat['wave'], std_dat['mag'], 'o')\n",
    "plt.plot(std_dat['wave'][in_spec], std_dat['mag'][in_spec], 'o')\n",
    "plt.legend(['all', 'in spec'])\n",
    "plt.xlabel('$\\\\lambda$ [$\\\\AA$]')\n",
    "plt.ylabel('magnitude')\n",
    "\n",
    "plt.axvline(wave.min())\n",
    "plt.axvline(wave.max())"
   ]
  },
  {
   "cell_type": "code",
   "execution_count": 15,
   "id": "c10b2280-66be-4e96-b159-46ea0956e493",
   "metadata": {},
   "outputs": [],
   "source": [
    "ave_counts = []\n",
    "\n",
    "for cntr, wid in zip(std_dat['wave'][in_spec], std_dat['bp'][in_spec]):\n",
    "    in_bp = np.where((wave > (cntr-wid)) & (wave < (cntr+wid)))\n",
    "    ave_counts.append(np.nanmean(spec[in_bp]))"
   ]
  },
  {
   "cell_type": "code",
   "execution_count": 16,
   "id": "abf4e676",
   "metadata": {},
   "outputs": [],
   "source": [
    "obj_flux = (np.array(ave_counts) / regulus_hdr['EXPTIME'])"
   ]
  },
  {
   "cell_type": "code",
   "execution_count": 17,
   "id": "8260a538",
   "metadata": {},
   "outputs": [
    {
     "data": {
      "text/plain": [
       "<matplotlib.collections.PathCollection at 0x7fc36121ec40>"
      ]
     },
     "execution_count": 17,
     "metadata": {},
     "output_type": "execute_result"
    },
    {
     "data": {
      "image/png": "[encoded data removed]",
      "text/plain": [
       "<Figure size 432x288 with 1 Axes>"
      ]
     },
     "metadata": {
      "needs_background": "light"
     },
     "output_type": "display_data"
    }
   ],
   "source": [
    "# check the average\n",
    "plt.plot(wave, spec/regulus_hdr['EXPTIME'])\n",
    "plt.scatter(std_dat['wave'][in_spec], obj_flux, color='red')"
   ]
  },
  {
   "cell_type": "code",
   "execution_count": 18,
   "id": "c5dc8301",
   "metadata": {},
   "outputs": [],
   "source": [
    "# the ratio between the standard star flux and observed flux \n",
    "# check to make sure the units are erg/count ! \n",
    "\n",
    "ratio = np.abs(np.array(std_flx[in_spec],dtype='float') / \n",
    "               np.array(obj_flux,dtype='float'))"
   ]
  },
  {
   "cell_type": "code",
   "execution_count": 19,
   "id": "e71e5af5",
   "metadata": {},
   "outputs": [],
   "source": [
    "# fit the log of the ratio - mag units!\n",
    "LogSensfunc = np.log10(ratio)"
   ]
  },
  {
   "cell_type": "code",
   "execution_count": 20,
   "id": "f5974bba-b26c-426b-95a9-7c7509f19807",
   "metadata": {},
   "outputs": [
    {
     "data": {
      "image/png": "[encoded data removed]",
      "text/plain": [
       "<Figure size 432x288 with 1 Axes>"
      ]
     },
     "metadata": {
      "needs_background": "light"
     },
     "output_type": "display_data"
    }
   ],
   "source": [
    "plt.plot(std_dat['wave'][in_spec], LogSensfunc, '-o')\n",
    "# invert the scaling of the y-axis since these are magnitudes \n",
    "plt.gca().invert_yaxis()"
   ]
  },
  {
   "cell_type": "code",
   "execution_count": 21,
   "id": "87deb845",
   "metadata": {},
   "outputs": [],
   "source": [
    "# interpolate back onto observed wavelength grid\n",
    "# try and compare a few different functions\n",
    "\n",
    "# linear \n",
    "sensfunc2_linear = 10**np.interp(wave, std_dat['wave'][in_spec], LogSensfunc)\n",
    "\n",
    "# spline \n",
    "spl = UnivariateSpline(std_dat['wave'][in_spec], LogSensfunc, ext=0, k=3, s=0.005)\n",
    "sensfunc2_spline = 10**spl(wave)\n",
    "\n",
    "# poly\n",
    "polydeg = 3\n",
    "fit = np.polyfit(std_dat['wave'][in_spec], LogSensfunc, polydeg)\n",
    "sensfunc2_poly = 10**np.polyval(fit, wave)\n"
   ]
  },
  {
   "cell_type": "code",
   "execution_count": 22,
   "id": "116d0c3c",
   "metadata": {},
   "outputs": [
    {
     "data": {
      "text/plain": [
       "<matplotlib.legend.Legend at 0x7fc320aca040>"
      ]
     },
     "execution_count": 22,
     "metadata": {},
     "output_type": "execute_result"
    },
    {
     "data": {
      "image/png": "[encoded data removed]",
      "text/plain": [
       "<Figure size 432x288 with 1 Axes>"
      ]
     },
     "metadata": {
      "needs_background": "light"
     },
     "output_type": "display_data"
    }
   ],
   "source": [
    "plt.plot(wave, sensfunc2_linear, lw=2)\n",
    "plt.plot(wave, sensfunc2_spline, lw=2)\n",
    "plt.plot(wave, sensfunc2_poly, lw=2)\n",
    "plt.legend(['linear', 'spline', 'poly'])"
   ]
  },
  {
   "cell_type": "code",
   "execution_count": 23,
   "id": "a92ec519",
   "metadata": {},
   "outputs": [
    {
     "data": {
      "text/plain": [
       "[<matplotlib.lines.Line2D at 0x7fc3303422e0>]"
      ]
     },
     "execution_count": 23,
     "metadata": {},
     "output_type": "execute_result"
    },
    {
     "data": {
      "image/png": "[encoded data removed]",
      "text/plain": [
       "<Figure size 432x288 with 1 Axes>"
      ]
     },
     "metadata": {
      "needs_background": "light"
     },
     "output_type": "display_data"
    }
   ],
   "source": [
    "plt.plot(wave, (spec/regulus_hdr['EXPTIME'])*sensfunc2_spline)"
   ]
  },
  {
   "cell_type": "markdown",
   "id": "a1e6c167-ff19-449d-8178-e906636bfed6",
   "metadata": {},
   "source": [
    "If you are satisfied with the flux calibration (how can you check that everything went well??), then apply the correction to the target spectra. Be sure to save the flux-calibrated result. "
   ]
  },
  {
   "cell_type": "code",
   "execution_count": null,
   "id": "ac7c30e8-efb2-4701-b6f0-6595956efd82",
   "metadata": {},
   "outputs": [],
   "source": []
  }
 ],
 "metadata": {
  "kernelspec": {
   "display_name": "Python 3 (ipykernel)",
   "language": "python",
   "name": "python3"
  },
  "language_info": {
   "codemirror_mode": {
    "name": "ipython",
    "version": 3
   },
   "file_extension": ".py",
   "mimetype": "text/x-python",
   "name": "python",
   "nbconvert_exporter": "python",
   "pygments_lexer": "ipython3",
   "version": "3.9.12"
  }
 },
 "nbformat": 4,
 "nbformat_minor": 5
}
