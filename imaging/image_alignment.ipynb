{
 "cells": [
  {
   "cell_type": "markdown",
   "id": "d6fd59a4-3b58-4213-aea2-226eed389166",
   "metadata": {},
   "source": [
    "Often times, when we take astronomical images, we have a small offset between individual images. There are several reasons for this. There are many imperfections that show up in any individual raw data frame -- hot pixels, cosmic rays, etc. To make sure we don't lose information / important parts of our objects, we deliberately add a small offset between images. This way, the astronomical target falls on different pixels so important objects are not always on bad pixels, etc. \n",
    "\n",
    "Before we can combine multiple frames into a single image, we'll need to shift and align the individual frames. That's the goal of this notebook. \n",
    "\n",
    "We'll look at a few different ways to approach this task, then compare them at the end. Often there are multiple valid ways to do something and often times there are good reasons to prefer some approaches to others. In this example, we'll keep track of the execution time (how long it takes the code to run) for a few different ways of coding the same basic task. "
   ]
  },
  {
   "cell_type": "markdown",
   "id": "507e923f-0543-4877-90e8-c25f1f7a24ce",
   "metadata": {},
   "source": [
    "## The input file"
   ]
  },
  {
   "cell_type": "markdown",
   "id": "7259bcf0-d795-4d6f-8753-a8da190cf1ac",
   "metadata": {},
   "source": [
    "To make things easier, we will make an input file that has (1) the names of the images to align, (2) x shifts (in pixels), (3) the y shifts, (4) a representative value for the sky background, and (5) a scale factor so the counts are similar between all three images. The input file has the following format:\n",
    "\n",
    "`#name     xsh   ysh   skyval   scale` <br>\n",
    "`Vim1.fits  0   0   627  1`  <br> \n",
    "`Vim2.fits  20   -4   857   0.982`  <br> \n",
    "`Vim3.fits  0   15   912   1.099`  <br>\n",
    "\n",
    "where the columns are: \n",
    " - the image name\n",
    " - the xpixel shift\n",
    " - the ypixel shift\n",
    " - sky values\n",
    " - scale factor \n",
    "   \n",
    "Note that the first line labels the columns. You can use commas or semicolons to separate the columns. Note that if you use whitespace, you must have the exact same number of spaces between columns or python will complain!\n"
   ]
  },
  {
   "cell_type": "code",
   "execution_count": null,
   "id": "aa4cb077-b0d5-4719-9d39-81052b16f69f",
   "metadata": {},
   "outputs": [],
   "source": [
    "# start by importing the necessities \n",
    "\n",
    "from astropy.io import fits\n",
    "from astropy.io import ascii\n",
    "import warnings\n",
    "import numpy as np\n",
    "import matplotlib.pyplot as plt\n",
    "\n",
    "#to keep track of the execution time\n",
    "import time "
   ]
  },
  {
   "cell_type": "code",
   "execution_count": null,
   "id": "8d54e5dc-e1e6-4ef4-ad27-13fa6c105ea0",
   "metadata": {},
   "outputs": [],
   "source": [
    "# files we need to do the alignment \n",
    "\n",
    "path = '/Users/mr82/teaching/data_for_ASTR230/reduced/'\n",
    "flist='input_list_Vims.txt'\n",
    "#images=ascii.read(path+flist,header_start=0,data_start=1,delimiter=\" \") # reads flist into astropy table object `images'\n",
    "images=ascii.read(path+flist,delimiter=\" \") # reads flist into astropy table object `images'"
   ]
  },
  {
   "cell_type": "markdown",
   "id": "49b30efc-a74d-4ca8-bd3b-66fb8bca826a",
   "metadata": {},
   "source": [
    "## Image alignment using nested for loops"
   ]
  },
  {
   "cell_type": "markdown",
   "id": "28ef3641-be93-4512-9737-84c90258c308",
   "metadata": {},
   "source": [
    "There are a few different ways to approach image alignment. You could use for loops to go through the configuration file and compute some offsets. Let's keep track of the execution time so we can compare approaches to image alignment at the end. "
   ]
  },
  {
   "cell_type": "code",
   "execution_count": null,
   "id": "49d9e482-db7d-459c-9fde-e30e9621e88a",
   "metadata": {},
   "outputs": [],
   "source": [
    "nfiles=np.shape(images)[0] #number of files in the list\n",
    "ixmax=np.zeros(nfiles, dtype=int)      #initialize these with zero\n",
    "ixmin=np.zeros(nfiles, dtype=int)\n",
    "iymin=np.zeros(nfiles, dtype=int)\n",
    "iymax=np.zeros(nfiles, dtype=int)    \n",
    "\n",
    "# collect the start time so we can see how long this takes to run\n",
    "start_time = time.time()\n",
    "\n",
    "#loop through the table to set limits and fix bad pixels for each file\n",
    "for i in range(0,nfiles): \n",
    "    #read in the image \n",
    "    ffile=fits.open(path+images['name'][i]) \n",
    "    \n",
    "    #read size of images from the header\n",
    "    xsz=ffile[0].header['NAXIS1']\n",
    "    ysz=ffile[0].header['NAXIS2']\n",
    "\n",
    "    # collect shifts for each image \n",
    "    ixmin[i]=1+images['xsh'][i]  \n",
    "    ixmax[i]=xsz+images['xsh'][i]\n",
    "    iymin[i]=1+images['ysh'][i]  \n",
    "    iymax[i]=ysz+images['ysh'][i]\n",
    "    i+=1\n",
    "\n",
    "# figure out the size of the composite image from the list of shifts \n",
    "ixmn=np.min(ixmin)\n",
    "ixmx=np.max(ixmax)\n",
    "iymn=np.min(iymin)\n",
    "iymx=np.max(iymax)\n",
    "ixbig=ixmx-ixmn+1 #size of composite\n",
    "iybig=iymx-iymn+1   \n",
    "\n",
    "# calculate and print the execution time \n",
    "print(\"--- %s seconds ---\" % (time.time() - start_time))"
   ]
  },
  {
   "cell_type": "markdown",
   "id": "47ec0ffa-e141-4ba7-9b4a-04c26818cfff",
   "metadata": {},
   "source": [
    "We can use this information to make a new 3-D array where we will insert the data in its correct, shifted position using a pair of nested for loops. "
   ]
  },
  {
   "cell_type": "code",
   "execution_count": null,
   "id": "03ec86f4-9dd7-4286-b4f7-6c79c06e85c6",
   "metadata": {},
   "outputs": [],
   "source": [
    "#make an empty array for the combined image \n",
    "cgrid=np.empty((iybig,ixbig,nfiles))\n",
    "#fill it with NaNs, then replace with data\n",
    "cgrid[::]=np.NAN \n",
    "\n",
    "\n",
    "start_time = time.time()\n",
    "\n",
    "\n",
    "#shift each image \n",
    "for i in range(0,nfiles): #loop through the files\n",
    "    #read in the shifted data \n",
    "    ffile=fits.open(path+images['name'][i])\n",
    "    fdata=ffile[0].data\n",
    "    print(\"Doing image \",images['name'][i],end=\"\")\n",
    "    \n",
    "    for iy in range(0,iybig):\n",
    "        if(np.mod(iy,1+(iybig/20))==((iybig/20)-1)) :\n",
    "            print(\"{0:s}Doing image {1:s} {2:2d}%\".format('\\r',images['name'][i],np.int(100*iy/iybig)),end=\"\")\n",
    "        #make sure each file contributes only where it has data\n",
    "        if (iy<(iymin[i]-iymn) or iy>(iymax[i]-iymn)): \n",
    "            continue\n",
    "        for ix in range(0,ixbig):\n",
    "            if (ix<(ixmin[i]-ixmn) or ix>(ixmax[i]-ixmn)):\n",
    "                continue\n",
    "            #figure out the corresponding pixel index\n",
    "            ky=iy-iymin[i]+iymn\n",
    "            kx=ix-ixmin[i]+ixmn\n",
    "            #pixel-by-pixel input into the array\n",
    "            #omfg this is going to be sloooooooooooooooow \n",
    "            #add zeros on either side to shift, combine -- use to test speed of loops \n",
    "\n",
    "            # this also subtracts off the sky value and adds the multiplicative factor to the brightnesses are roughly equal \n",
    "            # we should take about whether this works for data where you care about the flux \n",
    "            cgrid[iy,ix,i] = (fdata[ky,kx]-images['skyval'][i])*images['scale'][i]\n",
    "    ffile.close()\n",
    "    print(\"{0:s}Doing image {1:s} ...done\".format('\\r',images['name'][i]))\n",
    "\n",
    "print(\"--- %s seconds ---\" % (time.time() - start_time))"
   ]
  },
  {
   "cell_type": "markdown",
   "id": "30ef2a34-e9a7-4aeb-b7bb-d6c7b7abcae5",
   "metadata": {},
   "source": [
    "Finally, we need to take the median of the image stack to make the combined image. This is again done in a pair of nested for loops. "
   ]
  },
  {
   "cell_type": "code",
   "execution_count": null,
   "id": "c04f1755-ede0-4677-8996-46d4d7fc0c6e",
   "metadata": {},
   "outputs": [],
   "source": [
    "#make a new file to collect the combined image \n",
    "cfile=np.empty((iybig,ixbig))\n",
    "cfile[:]=np.NAN \n",
    "print(\"Doing the composite median\",end=\"\")\n",
    "\n",
    "start_time = time.time()\n",
    "\n",
    "#a pixel-by-pixel median \n",
    "for ix in range(0,ixbig):\n",
    "    if(np.mod(ix,1+(ixbig/20))==((ixbig/20)-1)) :\n",
    "        print(\"{0:s}Doing the composite median {1:2d}%\".format(\"\\r\",np.int(100*ix/ixbig)),end=\"\")\n",
    "    for iy in range(0,iybig):\n",
    "        cfile[iy,ix]=np.nanmedian(cgrid[iy,ix,:])\n",
    "print(\"{0:s}Doing the composite median  ...done\".format(\"\\r\"))\n",
    "\n",
    "print(\"--- %s seconds ---\" % (time.time() - start_time))"
   ]
  },
  {
   "cell_type": "code",
   "execution_count": null,
   "id": "5b5cb0e1-acad-4e56-8f2e-18d48d922205",
   "metadata": {},
   "outputs": [],
   "source": [
    "plt.imshow(cfile, origin='lower', vmin=0, vmax=2500)\n",
    "plt.colorbar()"
   ]
  },
  {
   "cell_type": "markdown",
   "id": "5c2f22e9-28b5-4ee8-9674-6499d7a647a8",
   "metadata": {},
   "source": [
    "The code above uses a lot of for loops to combine the images and does a lot of the computations on a pixel-by-pixel basis. As you probably noticed, this doesn't run particularly fast. \n",
    "\n",
    "Fortunately, languages like python handle multi-dimensional arrays (like images and datacubes) well. With array manipulations, we can achieve the same basic tasks much more quickly. Let's take a look at how. "
   ]
  },
  {
   "cell_type": "markdown",
   "id": "c7e64db5-87aa-43bd-9c3e-60200f8078d6",
   "metadata": {},
   "source": [
    "## Image alignment using array manipulations "
   ]
  },
  {
   "cell_type": "markdown",
   "id": "38faae2f-312b-43fa-9fde-e19f466cb7e6",
   "metadata": {},
   "source": [
    "The first few lines / steps will look similar. The following lines are written as if we are starting from the beginning but many of these numbers (e.g., xsz, ysz) will still be in memory. "
   ]
  },
  {
   "cell_type": "code",
   "execution_count": null,
   "id": "3faae522-7de1-4c9c-a572-0400ae506a08",
   "metadata": {},
   "outputs": [],
   "source": [
    "#read in the first image \n",
    "ffile=fits.open(path+images['name'][0]) #read size of images from the header\n",
    "xsz=ffile[0].header['NAXIS1']\n",
    "ysz=ffile[0].header['NAXIS2']\n",
    "\n",
    "#compute min/max for each image \n",
    "ixmin=1+images['xsh']\n",
    "ixmax=xsz+images['xsh']\n",
    "iymin=1+images['ysh']\n",
    "iymax=ysz+images['ysh']\n",
    "\n",
    "# largest offset in every axis \n",
    "ixmn=np.min(1+images['xsh'])\n",
    "ixmx=np.max(xsz+images['xsh'])\n",
    "iymn=np.min(1+images['ysh'])\n",
    "iymx=np.max(ysz+images['ysh']) \n",
    "\n",
    "#compute the shift needed for each image \n",
    "xshift=ixmn-ixmin\n",
    "yshift=iymn-iymin\n"
   ]
  },
  {
   "cell_type": "code",
   "execution_count": null,
   "id": "2046a59b-efb2-4ff5-996b-9b1e4ff8e98a",
   "metadata": {},
   "outputs": [],
   "source": [
    "#make an empty array to collect the big, shifted images \n",
    "data_stack = []\n",
    "\n",
    "start_time = time.time()\n",
    "\n",
    "for i in range(0,nfiles): \n",
    "    #read in the image \n",
    "    ffile=fits.open(path+images['name'][i]) \n",
    "    fdata=(ffile[0].data - images['skyval'][i]) * images['scale'][i]\n",
    "\n",
    "    # add NaNs around the edge of the image so we can shift the images without the data wrapping around on itself\n",
    "    \n",
    "    # make an array of NaNs to pad the x-axis \n",
    "    xedge = np.zeros((ysz,100)) + np.nan\n",
    "    # add them on either side to make the image wider \n",
    "    bgim = np.hstack([xedge,fdata,xedge])\n",
    "\n",
    "    # make an array of NaNs to pad the y-axis \n",
    "    yedge = np.zeros((100,xsz+200)) + np.nan\n",
    "    # add them on either side to make the image taller \n",
    "    bgim = np.vstack([yedge,bgim,yedge])\n",
    "\n",
    "    # shift the image -- make the x and y axes are correctly mapped! \n",
    "    # subtracting from the shift for image 1 to go in the right direction \n",
    "    shift_im = np.roll(bgim, ((xshift[0]-xshift[i]),(yshift[0]-yshift[i])), axis=(1,0))\n",
    "\n",
    "    # add to the data stack \n",
    "    data_stack.append(shift_im)\n",
    "\n",
    "# make it an array so we can do math on it \n",
    "data_stack = np.array(data_stack)\n",
    "\n",
    "print(\"--- %s seconds ---\" % (time.time() - start_time))"
   ]
  },
  {
   "cell_type": "code",
   "execution_count": null,
   "id": "f93026c6-6a06-4129-8815-b567a29c456f",
   "metadata": {},
   "outputs": [],
   "source": [
    "shift_im = np.roll(bgim, ((xshift[0]-xshift[i]),(yshift[0]-yshift[i])), axis=(1,0))"
   ]
  },
  {
   "cell_type": "code",
   "execution_count": null,
   "id": "64210dac-d12a-4cfb-950a-e6b6a01b3d2f",
   "metadata": {},
   "outputs": [],
   "source": [
    "plt.imshow(data_stack[0], origin='lower', vmin=0, vmax=3000)"
   ]
  },
  {
   "cell_type": "code",
   "execution_count": null,
   "id": "8375d786-285a-4c55-9195-adcaf32ada16",
   "metadata": {},
   "outputs": [],
   "source": [
    "plt.imshow(data_stack[1], origin='lower', vmin=0, vmax=3000)"
   ]
  },
  {
   "cell_type": "code",
   "execution_count": null,
   "id": "87ceaa47-cc81-4300-ad5d-cdd9b6514e21",
   "metadata": {},
   "outputs": [],
   "source": [
    "plt.imshow(data_stack[2], origin='lower', vmin=0, vmax=3000)"
   ]
  },
  {
   "cell_type": "code",
   "execution_count": null,
   "id": "f2207d59-2446-4c89-99a8-42a170d11234",
   "metadata": {},
   "outputs": [],
   "source": [
    "plt.imshow(data_stack[0]-data_stack[1], origin='lower', vmin=-100, vmax=100)"
   ]
  },
  {
   "cell_type": "code",
   "execution_count": null,
   "id": "4982c666-9b2d-497c-8141-1958844c7d36",
   "metadata": {},
   "outputs": [],
   "source": [
    "plt.imshow(data_stack[0]-data_stack[2], origin='lower', vmin=-100, vmax=100)"
   ]
  },
  {
   "cell_type": "code",
   "execution_count": null,
   "id": "5aae45cd-4a20-45b0-99a2-a05258bcaa5c",
   "metadata": {},
   "outputs": [],
   "source": [
    "start_time = time.time()\n",
    "# take the median of the image through the stack direction \n",
    "# notice that we use np.nanmedian() so that we get the correct medians even where there are NaNs \n",
    "imstack = np.nanmedian(data_stack, axis=0)\n",
    "print(\"--- %s seconds ---\" % (time.time() - start_time))"
   ]
  },
  {
   "cell_type": "code",
   "execution_count": null,
   "id": "58524e4e-8d41-4e13-8c8f-c0877939b9da",
   "metadata": {},
   "outputs": [],
   "source": [
    "plt.Figure(figsize=(12,8))\n",
    "plt.imshow(imstack, origin='lower', vmin=0, vmax=2500)\n",
    "plt.colorbar()"
   ]
  },
  {
   "cell_type": "markdown",
   "id": "ac7421da-c559-4880-a1f0-c46a5f4b6a7a",
   "metadata": {},
   "source": [
    "At this point, you can trim the image to get rid of the extra NaNs around the edges. "
   ]
  },
  {
   "cell_type": "code",
   "execution_count": null,
   "id": "4cd22429-f5dc-42a0-9ee6-dc1a09c75921",
   "metadata": {},
   "outputs": [],
   "source": []
  },
  {
   "cell_type": "code",
   "execution_count": null,
   "id": "f8593586-6e26-4cec-895e-d2b96ff3d1cf",
   "metadata": {},
   "outputs": [],
   "source": []
  }
 ],
 "metadata": {
  "kernelspec": {
   "display_name": "Python 3 (ipykernel)",
   "language": "python",
   "name": "python3"
  },
  "language_info": {
   "codemirror_mode": {
    "name": "ipython",
    "version": 3
   },
   "file_extension": ".py",
   "mimetype": "text/x-python",
   "name": "python",
   "nbconvert_exporter": "python",
   "pygments_lexer": "ipython3",
   "version": "3.12.1"
  }
 },
 "nbformat": 4,
 "nbformat_minor": 5
}
